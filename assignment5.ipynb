{
 "cells": [
  {
   "cell_type": "code",
   "execution_count": 1,
   "metadata": {},
   "outputs": [
    {
     "name": "stdout",
     "output_type": "stream",
     "text": [
      "Current date and time: 2024-09-27 13:25:37.701125\n",
      "Current year: 2024\n",
      "Month of year: September\n",
      "Week number of the year: 38\n",
      "Weekday of the week: Friday\n",
      "Day of year: 271\n",
      "Day of the month: 27\n",
      "Day of week: 4\n"
     ]
    }
   ],
   "source": [
    "#1.Python script to display the various Date Time formats -\n",
    "from datetime import datetime, timedelta\n",
    "\n",
    "# Current date and time\n",
    "print(f\"Current date and time: {datetime.now()}\")\n",
    "\n",
    "# Current year\n",
    "print(f\"Current year: {datetime.now().year}\")\n",
    "\n",
    "# Month of year\n",
    "print(f\"Month of year: {datetime.now().strftime('%B')}\")\n",
    "\n",
    "# Week number of the year\n",
    "print(f\"Week number of the year: {datetime.now().strftime('%U')}\")\n",
    "\n",
    "# Weekday of the week\n",
    "print(f\"Weekday of the week: {datetime.now().strftime('%A')}\")\n",
    "\n",
    "# Day of year\n",
    "print(f\"Day of year: {datetime.now().strftime('%j')}\")\n",
    "\n",
    "# Day of the month\n",
    "print(f\"Day of the month: {datetime.now().day}\")\n",
    "\n",
    "# Day of week\n",
    "print(f\"Day of week: {datetime.now().weekday()}\")"
   ]
  },
  {
   "cell_type": "code",
   "execution_count": 2,
   "metadata": {},
   "outputs": [
    {
     "name": "stdout",
     "output_type": "stream",
     "text": [
      "1982 is a leap year: False\n"
     ]
    }
   ],
   "source": [
    "#2.to determine whether a given year is a leap year.\n",
    "def is_leap_year(year: int) -> bool:\n",
    "    if (year % 4 == 0 and year % 100 != 0) or (year % 400 == 0):\n",
    "        return True\n",
    "    return False\n",
    "\n",
    "year = 1982\n",
    "print(f\"{year} is a leap year: {is_leap_year(year)}\")\n"
   ]
  },
  {
   "cell_type": "code",
   "execution_count": 3,
   "metadata": {},
   "outputs": [
    {
     "name": "stdout",
     "output_type": "stream",
     "text": [
      "Converted datetime: 2014-07-01 14:43:00\n"
     ]
    }
   ],
   "source": [
    "#3.Python program to convert a string to datetime\n",
    "from datetime import datetime\n",
    "\n",
    "date_str = \"Jul 1 2014 2:43PM\"\n",
    "date_time_obj = datetime.strptime(date_str, '%b %d %Y %I:%M%p')\n",
    "print(f\"Converted datetime: {date_time_obj}\")"
   ]
  },
  {
   "cell_type": "code",
   "execution_count": 4,
   "metadata": {},
   "outputs": [
    {
     "name": "stdout",
     "output_type": "stream",
     "text": [
      "Current time: 13:25:37.801536\n"
     ]
    }
   ],
   "source": [
    "#4.Get the current time\n",
    "current_time = datetime.now().time()\n",
    "print(f\"Current time: {current_time}\")\n"
   ]
  },
  {
   "cell_type": "code",
   "execution_count": 5,
   "metadata": {},
   "outputs": [
    {
     "name": "stdout",
     "output_type": "stream",
     "text": [
      "Current Date: 2024-09-27\n",
      "5 days before Current Date: 2024-09-22\n"
     ]
    }
   ],
   "source": [
    "#5. Subtract five days from the current date\n",
    "current_date = datetime.now().date()\n",
    "five_days_ago = current_date - timedelta(days=5)\n",
    "print(f\"Current Date: {current_date}\")\n",
    "print(f\"5 days before Current Date: {five_days_ago}\")\n"
   ]
  },
  {
   "cell_type": "code",
   "execution_count": 6,
   "metadata": {},
   "outputs": [
    {
     "name": "stdout",
     "output_type": "stream",
     "text": [
      "Readable Date: 2010-09-10 08:01:22\n"
     ]
    }
   ],
   "source": [
    "#6. Convert a Unix timestamp string to a readable date\n",
    "unix_timestamp = 1284105682\n",
    "readable_date = datetime.utcfromtimestamp(unix_timestamp).strftime('%Y-%m-%d %H:%M:%S')\n",
    "print(f\"Readable Date: {readable_date}\")"
   ]
  },
  {
   "cell_type": "code",
   "execution_count": 7,
   "metadata": {},
   "outputs": [
    {
     "name": "stdout",
     "output_type": "stream",
     "text": [
      "Yesterday: 2024-09-26\n",
      "Today: 2024-09-27\n",
      "Tomorrow: 2024-09-28\n"
     ]
    }
   ],
   "source": [
    "#7. Print yesterday, today, tomorrow\n",
    "today = datetime.now()\n",
    "yesterday = today - timedelta(days=1)\n",
    "tomorrow = today + timedelta(days=1)\n",
    "\n",
    "print(f\"Yesterday: {yesterday.date()}\")\n",
    "print(f\"Today: {today.date()}\")\n",
    "print(f\"Tomorrow: {tomorrow.date()}\")\n"
   ]
  },
  {
   "cell_type": "code",
   "execution_count": 8,
   "metadata": {},
   "outputs": [
    {
     "name": "stdout",
     "output_type": "stream",
     "text": [
      "Midnight of the date: 2024-09-27 00:00:00\n"
     ]
    }
   ],
   "source": [
    "#8. Convert date to datetime (midnight)\n",
    "date_only = datetime.now().date()\n",
    "midnight_datetime = datetime.combine(date_only, datetime.min.time())\n",
    "print(f\"Midnight of the date: {midnight_datetime}\")"
   ]
  },
  {
   "cell_type": "code",
   "execution_count": 9,
   "metadata": {},
   "outputs": [
    {
     "name": "stdout",
     "output_type": "stream",
     "text": [
      "Day 1: 2024-09-27\n",
      "Day 2: 2024-09-28\n",
      "Day 3: 2024-09-29\n",
      "Day 4: 2024-09-30\n",
      "Day 5: 2024-10-01\n"
     ]
    }
   ],
   "source": [
    "#9. Print the next 5 days starting today\n",
    "today = datetime.now().date()\n",
    "for i in range(5):\n",
    "    future_date = today + timedelta(days=i)\n",
    "    print(f\"Day {i + 1}: {future_date}\")\n"
   ]
  },
  {
   "cell_type": "code",
   "execution_count": 10,
   "metadata": {},
   "outputs": [
    {
     "name": "stdout",
     "output_type": "stream",
     "text": [
      "Current Time: 2024-09-27 13:25:37.981082\n",
      "Time after 5 seconds: 2024-09-27 13:25:42.981082\n"
     ]
    }
   ],
   "source": [
    "#10. Add 5 seconds to the current time\n",
    "current_time = datetime.now()\n",
    "time_after_5_seconds = current_time + timedelta(seconds=5)\n",
    "print(f\"Current Time: {current_time}\")\n",
    "print(f\"Time after 5 seconds: {time_after_5_seconds}\")\n"
   ]
  },
  {
   "cell_type": "code",
   "execution_count": 11,
   "metadata": {},
   "outputs": [
    {
     "name": "stdout",
     "output_type": "stream",
     "text": [
      "Day of the year: 268\n"
     ]
    }
   ],
   "source": [
    "#11. Convert Year/Month/Day to Day of Year\n",
    "date_obj = datetime(2024, 9, 24)\n",
    "day_of_year = date_obj.strftime('%j')\n",
    "print(f\"Day of the year: {day_of_year}\")\n"
   ]
  },
  {
   "cell_type": "code",
   "execution_count": 12,
   "metadata": {},
   "outputs": [
    {
     "name": "stdout",
     "output_type": "stream",
     "text": [
      "Current time in milliseconds: 1727423738010\n"
     ]
    }
   ],
   "source": [
    "#12. Get the current time in milliseconds\n",
    "import time\n",
    "\n",
    "current_millis = int(time.time() * 1000)\n",
    "print(f\"Current time in milliseconds: {current_millis}\")\n"
   ]
  },
  {
   "cell_type": "code",
   "execution_count": 13,
   "metadata": {},
   "outputs": [
    {
     "name": "stdout",
     "output_type": "stream",
     "text": [
      "Week number: 24\n"
     ]
    }
   ],
   "source": [
    "#13. Get the week number\n",
    "sample_date = datetime(2015, 6, 16)\n",
    "week_number = sample_date.strftime('%U')\n",
    "print(f\"Week number: {week_number}\")\n"
   ]
  },
  {
   "cell_type": "code",
   "execution_count": 15,
   "metadata": {},
   "outputs": [
    {
     "name": "stdout",
     "output_type": "stream",
     "text": [
      "Mon Dec 14 00:00:00 2015\n"
     ]
    }
   ],
   "source": [
    "#14. Find the date of the first Monday of a given week\n",
    "import datetime\n",
    "def first_monday(year, week):\n",
    "\n",
    "    first_day_of_year = datetime.date(year, 1, 1)\n",
    "    days_to_monday = (7 - first_day_of_year.weekday()) % 7  \n",
    "    first_monday_of_year = first_day_of_year + datetime.timedelta(days=days_to_monday)\n",
    "    target_monday = first_monday_of_year + datetime.timedelta(weeks=week-1)\n",
    "    return target_monday\n",
    "\n",
    "year = 2015\n",
    "week = 50\n",
    "monday_date = first_monday(year, week)\n",
    "print(monday_date.strftime(\"Mon %b %d %X %Y\"))\n"
   ]
  },
  {
   "cell_type": "code",
   "execution_count": 19,
   "metadata": {},
   "outputs": [
    {
     "name": "stdout",
     "output_type": "stream",
     "text": [
      "2023-01-01\n",
      "2023-01-08\n",
      "2023-01-15\n",
      "2023-01-22\n",
      "2023-01-29\n",
      "2023-02-05\n",
      "2023-02-12\n",
      "2023-02-19\n",
      "2023-02-26\n",
      "2023-03-05\n",
      "2023-03-12\n",
      "2023-03-19\n",
      "2023-03-26\n",
      "2023-04-02\n",
      "2023-04-09\n",
      "2023-04-16\n",
      "2023-04-23\n",
      "2023-04-30\n",
      "2023-05-07\n",
      "2023-05-14\n",
      "2023-05-21\n",
      "2023-05-28\n",
      "2023-06-04\n",
      "2023-06-11\n",
      "2023-06-18\n",
      "2023-06-25\n",
      "2023-07-02\n",
      "2023-07-09\n",
      "2023-07-16\n",
      "2023-07-23\n",
      "2023-07-30\n",
      "2023-08-06\n",
      "2023-08-13\n",
      "2023-08-20\n",
      "2023-08-27\n",
      "2023-09-03\n",
      "2023-09-10\n",
      "2023-09-17\n",
      "2023-09-24\n",
      "2023-10-01\n",
      "2023-10-08\n",
      "2023-10-15\n",
      "2023-10-22\n",
      "2023-10-29\n",
      "2023-11-05\n",
      "2023-11-12\n",
      "2023-11-19\n",
      "2023-11-26\n",
      "2023-12-03\n",
      "2023-12-10\n",
      "2023-12-17\n",
      "2023-12-24\n",
      "2023-12-31\n"
     ]
    }
   ],
   "source": [
    "# 15. Select all the Sundays in a specified year\n",
    "\n",
    "def all_sundays(year):\n",
    "    d = datetime.date(year, 1, 1)\n",
    "    d += datetime.timedelta(days=(6 - d.weekday()))  # Find the first Sunday\n",
    "    while d.year == year:\n",
    "        yield d\n",
    "        d += datetime.timedelta(weeks=1)\n",
    "\n",
    "year = 2023\n",
    "sundays = list(all_sundays(year))\n",
    "for sunday in sundays:\n",
    "    print(sunday)\n"
   ]
  },
  {
   "cell_type": "code",
   "execution_count": 20,
   "metadata": {},
   "outputs": [
    {
     "name": "stdout",
     "output_type": "stream",
     "text": [
      "2014-01-01\n",
      "2015-01-01\n",
      "2017-01-01\n",
      "2001-03-01\n"
     ]
    }
   ],
   "source": [
    "#16. Add year(s) to a given date and display the updated date\n",
    "import datetime\n",
    "\n",
    "def addYears(date, years):\n",
    "    try:\n",
    "        return date.replace(year=date.year + years)\n",
    "    except ValueError:\n",
    "        # Handle leap year case\n",
    "        return date + (datetime.date(date.year + years, 3, 1) - datetime.date(date.year, 2, 29))\n",
    "\n",
    "print(addYears(datetime.date(2015, 1, 1), -1))\n",
    "print(addYears(datetime.date(2015, 1, 1), 0))\n",
    "print(addYears(datetime.date(2015, 1, 1), 2))\n",
    "print(addYears(datetime.date(2000, 2, 29), 1))\n"
   ]
  },
  {
   "cell_type": "code",
   "execution_count": 21,
   "metadata": {},
   "outputs": [
    {
     "name": "stdout",
     "output_type": "stream",
     "text": [
      "2024-09-25 11:01:10\n"
     ]
    }
   ],
   "source": [
    "#17. Drop microseconds from datetime\n",
    "now = datetime.datetime.now().replace(microsecond=0)\n",
    "print(now)"
   ]
  },
  {
   "cell_type": "code",
   "execution_count": 22,
   "metadata": {},
   "outputs": [
    {
     "name": "stdout",
     "output_type": "stream",
     "text": [
      "366 days, 0:00:00\n"
     ]
    }
   ],
   "source": [
    "#18. Get days between two dates\n",
    "\n",
    "def days_between(d1, d2):\n",
    "    delta = d2 - d1\n",
    "    return delta\n",
    "\n",
    "date1 = datetime.date(2000, 2, 28)\n",
    "date2 = datetime.date(2001, 2, 28)\n",
    "difference = days_between(date1, date2)\n",
    "print(difference)\n"
   ]
  },
  {
   "cell_type": "code",
   "execution_count": 25,
   "metadata": {},
   "outputs": [
    {
     "name": "stdout",
     "output_type": "stream",
     "text": [
      "2024-09-25\n"
     ]
    }
   ],
   "source": [
    "#19. Get the date of the last Tuesday\n",
    "\n",
    "def last_tuesday():\n",
    "    today = datetime.date.today()\n",
    "    last_tue = today - datetime.timedelta(days=(today.weekday() - 2) % 7)\n",
    "    return last_tue\n",
    "\n",
    "print(last_tuesday())"
   ]
  },
  {
   "cell_type": "code",
   "execution_count": 27,
   "metadata": {},
   "outputs": [
    {
     "name": "stdout",
     "output_type": "stream",
     "text": [
      "2024-09-17\n"
     ]
    }
   ],
   "source": [
    "# 20. Test the third Tuesday of a month\n",
    "\n",
    "def third_tuesday(year, month):\n",
    "    d = datetime.date(year, month, 1)\n",
    "    tuesdays = [d + datetime.timedelta(days=(1 - d.weekday()) + 7 * i) for i in range(5) if (d + datetime.timedelta(days=(1 - d.weekday()) + 7 * i)).month == month]\n",
    "    return tuesdays[2] if len(tuesdays) >= 3 else None\n",
    "\n",
    "print(third_tuesday(2024, 9))\n"
   ]
  },
  {
   "cell_type": "code",
   "execution_count": 29,
   "metadata": {},
   "outputs": [
    {
     "name": "stdout",
     "output_type": "stream",
     "text": [
      "2024-09-30\n"
     ]
    }
   ],
   "source": [
    "#21. Get the last day of a specified year and month\n",
    "\n",
    "import calendar\n",
    "from datetime import date\n",
    "\n",
    "def last_day_of_month(year, month):\n",
    "    return date(year, month, calendar.monthrange(year, month)[1])\n",
    "\n",
    "print(last_day_of_month(2024, 9))\n"
   ]
  },
  {
   "cell_type": "code",
   "execution_count": 30,
   "metadata": {},
   "outputs": [
    {
     "name": "stdout",
     "output_type": "stream",
     "text": [
      "28\n"
     ]
    }
   ],
   "source": [
    "#22. Get the number of days in a given month and year\n",
    "\n",
    "def days_in_month(year, month):\n",
    "    return calendar.monthrange(year, month)[1]\n",
    "\n",
    "print(days_in_month(2023, 2))  \n"
   ]
  },
  {
   "cell_type": "code",
   "execution_count": 31,
   "metadata": {},
   "outputs": [
    {
     "name": "stdout",
     "output_type": "stream",
     "text": [
      "2024-10-25\n"
     ]
    }
   ],
   "source": [
    "# 23. Add a month to a specified date\n",
    "\n",
    "def add_months(sourcedate, months):\n",
    "    month = sourcedate.month - 1 + months\n",
    "    year = sourcedate.year + month // 12\n",
    "    month = month % 12 + 1\n",
    "    day = min(sourcedate.day, [31,\n",
    "        29 if year % 4 == 0 and not year % 100 == 0 or year % 400 == 0 else 28,\n",
    "        31, 30, 31, 30, 31, 31, 30, 31, 30, 31][month-1])\n",
    "    return datetime.date(year, month, day)\n",
    "\n",
    "print(add_months(datetime.date(2024, 9, 25), 1))\n"
   ]
  },
  {
   "cell_type": "code",
   "execution_count": 34,
   "metadata": {},
   "outputs": [
    {
     "name": "stdout",
     "output_type": "stream",
     "text": [
      "3\n"
     ]
    }
   ],
   "source": [
    "#24. Count the number of Mondays on the 1st day of the month from 2015 to 2016\n",
    "\n",
    "def count_mondays_on_first(start_year, end_year):\n",
    "    count = 0\n",
    "    for year in range(start_year, end_year+1):\n",
    "        for month in range(1, 13):\n",
    "            if datetime.date(year, month, 1).weekday() == 0:  #\n",
    "                count += 1\n",
    "    return count\n",
    "\n",
    "print(count_mondays_on_first(2015, 2016))"
   ]
  },
  {
   "cell_type": "code",
   "execution_count": 35,
   "metadata": {},
   "outputs": [
    {
     "name": "stdout",
     "output_type": "stream",
     "text": [
      "Hello, World!\n",
      "Hello, World!\n",
      "Hello, World!\n",
      "Hello, World!\n",
      "Hello, World!\n"
     ]
    }
   ],
   "source": [
    "#25. Print a string five times, with a delay of three seconds\n",
    "for _ in range(5):\n",
    "    print(\"Hello, World!\")\n",
    "    time.sleep(3)\n"
   ]
  },
  {
   "cell_type": "code",
   "execution_count": 36,
   "metadata": {},
   "outputs": [
    {
     "name": "stdout",
     "output_type": "stream",
     "text": [
      "2025-03-25\n"
     ]
    }
   ],
   "source": [
    "# 26. Calculate the date six months from the current date using datetime\n",
    "def six_months_from_now():\n",
    "    today = datetime.date.today()\n",
    "    return add_months(today, 6)\n",
    "\n",
    "print(six_months_from_now())"
   ]
  },
  {
   "cell_type": "code",
   "execution_count": 37,
   "metadata": {},
   "outputs": [
    {
     "name": "stdout",
     "output_type": "stream",
     "text": [
      "2023-01-01\n",
      "2023-01-21\n",
      "2023-02-10\n",
      "2023-03-02\n",
      "2023-03-22\n",
      "2023-04-11\n",
      "2023-05-01\n",
      "2023-05-21\n",
      "2023-06-10\n",
      "2023-06-30\n",
      "2023-07-20\n",
      "2023-08-09\n"
     ]
    }
   ],
   "source": [
    "# 27. Create 12 fixed dates from a specified date over a given period with a difference of 20 days:\n",
    "\n",
    "def create_fixed_dates(start_date, period=20):\n",
    "    dates = []\n",
    "    for i in range(12):\n",
    "        dates.append(start_date + datetime.timedelta(days=i*period))\n",
    "    return dates\n",
    "\n",
    "start_date = datetime.date(2023, 1, 1)\n",
    "fixed_dates = create_fixed_dates(start_date)\n",
    "for date in fixed_dates:\n",
    "    print(date)"
   ]
  },
  {
   "cell_type": "code",
   "execution_count": 38,
   "metadata": {},
   "outputs": [
    {
     "name": "stdout",
     "output_type": "stream",
     "text": [
      "30 days before today: 2024-08-26\n",
      "30 days after today: 2024-10-25\n"
     ]
    }
   ],
   "source": [
    "#28. Get the dates 30 days before and after today:\n",
    "today = datetime.date.today()\n",
    "before_30_days = today - datetime.timedelta(days=30)\n",
    "after_30_days = today + datetime.timedelta(days=30)\n",
    "\n",
    "print(f\"30 days before today: {before_30_days}\")\n",
    "print(f\"30 days after today: {after_30_days}\")"
   ]
  },
  {
   "cell_type": "code",
   "execution_count": 39,
   "metadata": {},
   "outputs": [
    {
     "name": "stdout",
     "output_type": "stream",
     "text": [
      "GMT Time: 2024-09-25 05:49:47\n",
      "Local Time: 2024-09-25 11:19:47\n"
     ]
    }
   ],
   "source": [
    "#29. Get GMT and local time:\n",
    "\n",
    "gmt_time = time.gmtime()\n",
    "local_time = time.localtime()\n",
    "\n",
    "print(\"GMT Time:\", time.strftime(\"%Y-%m-%d %H:%M:%S\", gmt_time))\n",
    "print(\"Local Time:\", time.strftime(\"%Y-%m-%d %H:%M:%S\", local_time))"
   ]
  },
  {
   "cell_type": "code",
   "execution_count": 40,
   "metadata": {},
   "outputs": [
    {
     "name": "stdout",
     "output_type": "stream",
     "text": [
      "Timestamp: 1695450600.0\n"
     ]
    }
   ],
   "source": [
    "#30. Convert a date to a timestamp:\n",
    "\n",
    "date = datetime.datetime(2023, 9, 23, 12, 0)\n",
    "timestamp = date.timestamp()\n",
    "print(\"Timestamp:\", timestamp)"
   ]
  },
  {
   "cell_type": "code",
   "execution_count": 41,
   "metadata": {},
   "outputs": [
    {
     "name": "stdout",
     "output_type": "stream",
     "text": [
      "Timestamp: 1695450600.0\n"
     ]
    }
   ],
   "source": [
    "# 31. Convert a string date to a timestamp:\n",
    "\n",
    "date_str = \"2023-09-23 12:00:00\"\n",
    "date_obj = datetime.datetime.strptime(date_str, \"%Y-%m-%d %H:%M:%S\")\n",
    "timestamp = date_obj.timestamp()\n",
    "print(\"Timestamp:\", timestamp)"
   ]
  },
  {
   "cell_type": "code",
   "execution_count": 43,
   "metadata": {},
   "outputs": [
    {
     "name": "stdout",
     "output_type": "stream",
     "text": [
      "Number of days between: 366\n"
     ]
    }
   ],
   "source": [
    "#32. Calculate the number of days between two dates:\n",
    "from datetime import date\n",
    "date1 = date(2023, 9, 23)\n",
    "date2 = date(2024, 9, 23)\n",
    "\n",
    "days_between = (date2 - date1).days\n",
    "print(\"Number of days between:\", days_between)"
   ]
  },
  {
   "cell_type": "code",
   "execution_count": 46,
   "metadata": {},
   "outputs": [
    {
     "name": "stdout",
     "output_type": "stream",
     "text": [
      "Number of days between: 368\n"
     ]
    }
   ],
   "source": [
    "#33. Calculate the number of days between two datetime objects:\n",
    "\n",
    "datetime1 = datetime.datetime(2023, 9, 23, 12, 0)\n",
    "datetime2 = datetime.datetime(2024, 9, 25, 13, 0)\n",
    "\n",
    "days_between = (datetime2 - datetime1).days\n",
    "print(\"Number of days between:\", days_between)"
   ]
  },
  {
   "cell_type": "code",
   "execution_count": 47,
   "metadata": {},
   "outputs": [
    {
     "name": "stdout",
     "output_type": "stream",
     "text": [
      "Human-friendly date: Wednesday, 25 September 2024 11:23 AM\n"
     ]
    }
   ],
   "source": [
    "#34. Display the date and time in a human-friendly string:\n",
    "\n",
    "now = datetime.datetime.now()\n",
    "friendly_date = now.strftime(\"%A, %d %B %Y %I:%M %p\")\n",
    "print(\"Human-friendly date:\", friendly_date)"
   ]
  },
  {
   "cell_type": "code",
   "execution_count": 48,
   "metadata": {},
   "outputs": [
    {
     "name": "stdout",
     "output_type": "stream",
     "text": [
      "Unix timestamp: 1695407400\n"
     ]
    }
   ],
   "source": [
    "# 35. Convert a date to a Unix timestamp:\n",
    "\n",
    "date = datetime.datetime(2023, 9, 23)\n",
    "unix_timestamp = int(date.timestamp())\n",
    "print(\"Unix timestamp:\", unix_timestamp)"
   ]
  },
  {
   "cell_type": "code",
   "execution_count": 49,
   "metadata": {},
   "outputs": [
    {
     "name": "stdout",
     "output_type": "stream",
     "text": [
      "Difference in seconds: 31622400.0\n"
     ]
    }
   ],
   "source": [
    "# 36. Calculate the difference between two dates in seconds:\n",
    "\n",
    "date1 = datetime.datetime(2023, 9, 23)\n",
    "date2 = datetime.datetime(2024, 9, 23)\n",
    "\n",
    "difference_in_seconds = (date2 - date1).total_seconds()\n",
    "print(\"Difference in seconds:\", difference_in_seconds)"
   ]
  },
  {
   "cell_type": "code",
   "execution_count": 50,
   "metadata": {},
   "outputs": [
    {
     "name": "stdout",
     "output_type": "stream",
     "text": [
      "366 days, 0 hours, 0 minutes, 0 seconds\n"
     ]
    }
   ],
   "source": [
    "#37. Convert the difference of two dates into days, hours, minutes, and seconds:\n",
    "\n",
    "def convert_timedelta(td):\n",
    "    days = td.days\n",
    "    seconds = td.seconds\n",
    "    hours = seconds // 3600\n",
    "    minutes = (seconds % 3600) // 60\n",
    "    seconds = seconds % 60\n",
    "    return days, hours, minutes, seconds\n",
    "\n",
    "date1 = datetime.datetime(2023, 9, 23)\n",
    "date2 = datetime.datetime(2024, 9, 23)\n",
    "time_diff = date2 - date1\n",
    "\n",
    "days, hours, minutes, seconds = convert_timedelta(time_diff)\n",
    "print(f\"{days} days, {hours} hours, {minutes} minutes, {seconds} seconds\")"
   ]
  },
  {
   "cell_type": "code",
   "execution_count": 52,
   "metadata": {},
   "outputs": [
    {
     "name": "stdout",
     "output_type": "stream",
     "text": [
      "Last modified: 2024-09-17 16:03:30.049428\n"
     ]
    }
   ],
   "source": [
    "#38. Get the last modified information of a file:\n",
    "\n",
    "import os\n",
    "import datetime\n",
    "\n",
    "file_path = \"assignment1.ipynb\"\n",
    "last_modified_time = os.path.getmtime(file_path)\n",
    "last_modified_date = datetime.datetime.fromtimestamp(last_modified_time)\n",
    "\n",
    "print(f\"Last modified: {last_modified_date}\")"
   ]
  },
  {
   "cell_type": "code",
   "execution_count": 53,
   "metadata": {},
   "outputs": [
    {
     "name": "stdout",
     "output_type": "stream",
     "text": [
      "Age: 33 years\n"
     ]
    }
   ],
   "source": [
    "#39. Calculate an age in years:\n",
    "\n",
    "from datetime import date\n",
    "\n",
    "def calculate_age(birthdate):\n",
    "    today = date.today()\n",
    "    age = today.year - birthdate.year - ((today.month, today.day) < (birthdate.month, birthdate.day))\n",
    "    return age\n",
    "\n",
    "birthdate = date(1990, 11, 12)\n",
    "age = calculate_age(birthdate)\n",
    "print(f\"Age: {age} years\")"
   ]
  },
  {
   "cell_type": "code",
   "execution_count": 54,
   "metadata": {},
   "outputs": [
    {
     "name": "stdout",
     "output_type": "stream",
     "text": [
      "Current date and time: 2024-09-25 11:29:54.723317\n"
     ]
    }
   ],
   "source": [
    "#40. Get the current date and time information:\n",
    "\n",
    "now = datetime.datetime.now()\n",
    "print(\"Current date and time:\", now)"
   ]
  },
  {
   "cell_type": "code",
   "execution_count": 55,
   "metadata": {},
   "outputs": [
    {
     "name": "stdout",
     "output_type": "stream",
     "text": [
      "Date and time as string: 2024-09-25 11:30:25\n"
     ]
    }
   ],
   "source": [
    "#41. Generate a date and time as a string:\n",
    "\n",
    "now = datetime.datetime.now()\n",
    "date_time_str = now.strftime(\"%Y-%m-%d %H:%M:%S\")\n",
    "print(\"Date and time as string:\", date_time_str)"
   ]
  },
  {
   "cell_type": "code",
   "execution_count": 56,
   "metadata": {},
   "outputs": [
    {
     "name": "stdout",
     "output_type": "stream",
     "text": [
      "   September 2024\n",
      "Mo Tu We Th Fr Sa Su\n",
      "                   1\n",
      " 2  3  4  5  6  7  8\n",
      " 9 10 11 12 13 14 15\n",
      "16 17 18 19 20 21 22\n",
      "23 24 25 26 27 28 29\n",
      "30\n",
      "\n"
     ]
    }
   ],
   "source": [
    "#42. Display formatted text output of a month and start the week on Sunday:\n",
    "\n",
    "year = 2024\n",
    "month = 9\n",
    "print(calendar.month(year, month, w=0, l=0))"
   ]
  },
  {
   "cell_type": "code",
   "execution_count": 61,
   "metadata": {},
   "outputs": [
    {
     "name": "stdout",
     "output_type": "stream",
     "text": [
      "                                             2024\n",
      "\n",
      "          January                          February                          March\n",
      "Mon Tue Wed Thu Fri Sat Sun      Mon Tue Wed Thu Fri Sat Sun      Mon Tue Wed Thu Fri Sat Sun\n",
      "  1   2   3   4   5   6   7                    1   2   3   4                        1   2   3\n",
      "  8   9  10  11  12  13  14        5   6   7   8   9  10  11        4   5   6   7   8   9  10\n",
      " 15  16  17  18  19  20  21       12  13  14  15  16  17  18       11  12  13  14  15  16  17\n",
      " 22  23  24  25  26  27  28       19  20  21  22  23  24  25       18  19  20  21  22  23  24\n",
      " 29  30  31                       26  27  28  29                   25  26  27  28  29  30  31\n",
      "\n",
      "           April                             May                              June\n",
      "Mon Tue Wed Thu Fri Sat Sun      Mon Tue Wed Thu Fri Sat Sun      Mon Tue Wed Thu Fri Sat Sun\n",
      "  1   2   3   4   5   6   7                1   2   3   4   5                            1   2\n",
      "  8   9  10  11  12  13  14        6   7   8   9  10  11  12        3   4   5   6   7   8   9\n",
      " 15  16  17  18  19  20  21       13  14  15  16  17  18  19       10  11  12  13  14  15  16\n",
      " 22  23  24  25  26  27  28       20  21  22  23  24  25  26       17  18  19  20  21  22  23\n",
      " 29  30                           27  28  29  30  31               24  25  26  27  28  29  30\n",
      "\n",
      "            July                            August                         September\n",
      "Mon Tue Wed Thu Fri Sat Sun      Mon Tue Wed Thu Fri Sat Sun      Mon Tue Wed Thu Fri Sat Sun\n",
      "  1   2   3   4   5   6   7                    1   2   3   4                                1\n",
      "  8   9  10  11  12  13  14        5   6   7   8   9  10  11        2   3   4   5   6   7   8\n",
      " 15  16  17  18  19  20  21       12  13  14  15  16  17  18        9  10  11  12  13  14  15\n",
      " 22  23  24  25  26  27  28       19  20  21  22  23  24  25       16  17  18  19  20  21  22\n",
      " 29  30  31                       26  27  28  29  30  31           23  24  25  26  27  28  29\n",
      "                                                                   30\n",
      "\n",
      "          October                          November                         December\n",
      "Mon Tue Wed Thu Fri Sat Sun      Mon Tue Wed Thu Fri Sat Sun      Mon Tue Wed Thu Fri Sat Sun\n",
      "      1   2   3   4   5   6                        1   2   3                                1\n",
      "  7   8   9  10  11  12  13        4   5   6   7   8   9  10        2   3   4   5   6   7   8\n",
      " 14  15  16  17  18  19  20       11  12  13  14  15  16  17        9  10  11  12  13  14  15\n",
      " 21  22  23  24  25  26  27       18  19  20  21  22  23  24       16  17  18  19  20  21  22\n",
      " 28  29  30  31                   25  26  27  28  29  30           23  24  25  26  27  28  29\n",
      "                                                                   30  31\n",
      "\n"
     ]
    }
   ],
   "source": [
    "#43. Print a 3-column calendar for an entire year:\n",
    "\n",
    "year = 2024\n",
    "print(calendar.TextCalendar().formatyear(year, 3, c=6, m=3))"
   ]
  },
  {
   "cell_type": "code",
   "execution_count": 62,
   "metadata": {},
   "outputs": [
    {
     "name": "stdout",
     "output_type": "stream",
     "text": [
      "   September 2024\n",
      "Su Mo Tu We Th Fr Sa\n",
      " 1  2  3  4  5  6  7\n",
      " 8  9 10 11 12 13 14\n",
      "15 16 17 18 19 20 21\n",
      "22 23 24 25 26 27 28\n",
      "29 30\n",
      "\n"
     ]
    }
   ],
   "source": [
    "# 44. Display a calendar for a locale:\n",
    "\n",
    "import calendar\n",
    "import locale\n",
    "\n",
    "locale.setlocale(locale.LC_TIME, 'en_US.UTF-8')  \n",
    "calendar.setfirstweekday(calendar.SUNDAY)\n",
    "\n",
    "print(calendar.month(2024, 9))"
   ]
  },
  {
   "cell_type": "code",
   "execution_count": 63,
   "metadata": {},
   "outputs": [
    {
     "name": "stdout",
     "output_type": "stream",
     "text": [
      "Current week number: 39\n"
     ]
    }
   ],
   "source": [
    "#45. Get the current week:\n",
    "\n",
    "today = datetime.date.today()\n",
    "current_week = today.isocalendar()[1]\n",
    "print(f\"Current week number: {current_week}\")"
   ]
  },
  {
   "cell_type": "code",
   "execution_count": 64,
   "metadata": {},
   "outputs": [
    {
     "name": "stdout",
     "output_type": "stream",
     "text": [
      "<table border=\"0\" cellpadding=\"0\" cellspacing=\"0\" class=\"month\">\n",
      "<tr><th colspan=\"7\" class=\"month\">September 2024</th></tr>\n",
      "<tr><th class=\"mon\">Mon</th><th class=\"tue\">Tue</th><th class=\"wed\">Wed</th><th class=\"thu\">Thu</th><th class=\"fri\">Fri</th><th class=\"sat\">Sat</th><th class=\"sun\">Sun</th></tr>\n",
      "<tr><td class=\"noday\">&nbsp;</td><td class=\"noday\">&nbsp;</td><td class=\"noday\">&nbsp;</td><td class=\"noday\">&nbsp;</td><td class=\"noday\">&nbsp;</td><td class=\"noday\">&nbsp;</td><td class=\"sun\">1</td></tr>\n",
      "<tr><td class=\"mon\">2</td><td class=\"tue\">3</td><td class=\"wed\">4</td><td class=\"thu\">5</td><td class=\"fri\">6</td><td class=\"sat\">7</td><td class=\"sun\">8</td></tr>\n",
      "<tr><td class=\"mon\">9</td><td class=\"tue\">10</td><td class=\"wed\">11</td><td class=\"thu\">12</td><td class=\"fri\">13</td><td class=\"sat\">14</td><td class=\"sun\">15</td></tr>\n",
      "<tr><td class=\"mon\">16</td><td class=\"tue\">17</td><td class=\"wed\">18</td><td class=\"thu\">19</td><td class=\"fri\">20</td><td class=\"sat\">21</td><td class=\"sun\">22</td></tr>\n",
      "<tr><td class=\"mon\">23</td><td class=\"tue\">24</td><td class=\"wed\">25</td><td class=\"thu\">26</td><td class=\"fri\">27</td><td class=\"sat\">28</td><td class=\"sun\">29</td></tr>\n",
      "<tr><td class=\"mon\">30</td><td class=\"noday\">&nbsp;</td><td class=\"noday\">&nbsp;</td><td class=\"noday\">&nbsp;</td><td class=\"noday\">&nbsp;</td><td class=\"noday\">&nbsp;</td><td class=\"noday\">&nbsp;</td></tr>\n",
      "</table>\n",
      "\n"
     ]
    }
   ],
   "source": [
    "#46. Create an HTML calendar for a specific year and month:\n",
    "year = 2024\n",
    "month = 9\n",
    "\n",
    "html_calendar = calendar.HTMLCalendar().formatmonth(year, month)\n",
    "print(html_calendar)"
   ]
  },
  {
   "cell_type": "code",
   "execution_count": 65,
   "metadata": {},
   "outputs": [
    {
     "name": "stdout",
     "output_type": "stream",
     "text": [
      "2024-01-13\n",
      "2024-02-10\n",
      "2024-03-09\n",
      "2024-04-13\n",
      "2024-05-11\n",
      "2024-06-08\n",
      "2024-07-13\n",
      "2024-08-10\n",
      "2024-09-14\n",
      "2024-10-12\n",
      "2024-11-09\n",
      "2024-12-14\n"
     ]
    }
   ],
   "source": [
    "#47. Display the 2nd Saturday of every month for a given year:\n",
    "\n",
    "def second_saturday(year):\n",
    "    second_saturdays = []\n",
    "    for month in range(1, 13):\n",
    "        first_day_of_month = datetime.date(year, month, 1)\n",
    "        first_saturday = first_day_of_month + datetime.timedelta(days=(5 - first_day_of_month.weekday() + 7) % 7)\n",
    "        second_saturday = first_saturday + datetime.timedelta(days=7)\n",
    "        second_saturdays.append(second_saturday)\n",
    "    return second_saturdays\n",
    "\n",
    "year = 2024\n",
    "for date in second_saturday(year):\n",
    "    print(date)"
   ]
  },
  {
   "cell_type": "code",
   "execution_count": 66,
   "metadata": {},
   "outputs": [
    {
     "name": "stdout",
     "output_type": "stream",
     "text": [
      "   September 2024\n",
      "Mo Tu We Th Fr Sa Su\n",
      "                   1\n",
      " 2  3  4  5  6  7  8\n",
      " 9 10 11 12 13 14 15\n",
      "16 17 18 19 20 21 22\n",
      "23 24 25 26 27 28 29\n",
      "30\n",
      "\n"
     ]
    }
   ],
   "source": [
    "#48. Display a simple, formatted calendar of a given year and month:\n",
    "\n",
    "year = 2024\n",
    "month = 9\n",
    "cal = calendar.TextCalendar().formatmonth(year, month)\n",
    "print(cal)"
   ]
  },
  {
   "cell_type": "code",
   "execution_count": 67,
   "metadata": {},
   "outputs": [
    {
     "name": "stdout",
     "output_type": "stream",
     "text": [
      "Converted datetime: 2024-09-23 12:00:00\n"
     ]
    }
   ],
   "source": [
    "#49. Convert a string into datetime:\n",
    "\n",
    "date_str = \"2024-09-23 12:00:00\"\n",
    "date_obj = datetime.datetime.strptime(date_str, \"%Y-%m-%d %H:%M:%S\")\n",
    "print(\"Converted datetime:\", date_obj)"
   ]
  },
  {
   "cell_type": "code",
   "execution_count": 68,
   "metadata": {},
   "outputs": [
    {
     "name": "stdout",
     "output_type": "stream",
     "text": [
      "2024-09-01\n",
      "2024-09-02\n",
      "2024-09-03\n",
      "2024-09-04\n",
      "2024-09-05\n",
      "2024-09-06\n",
      "2024-09-07\n",
      "2024-09-08\n",
      "2024-09-09\n",
      "2024-09-10\n"
     ]
    }
   ],
   "source": [
    "#50. Get a list of dates between two dates:\n",
    "\n",
    "def dates_between(start_date, end_date):\n",
    "    delta = end_date - start_date\n",
    "    return [start_date + datetime.timedelta(days=i) for i in range(delta.days + 1)]\n",
    "\n",
    "start = datetime.date(2024, 9, 1)\n",
    "end = datetime.date(2024, 9, 10)\n",
    "dates = dates_between(start, end)\n",
    "for d in dates:\n",
    "    print(d)"
   ]
  },
  {
   "cell_type": "code",
   "execution_count": 69,
   "metadata": {},
   "outputs": [
    {
     "name": "stdout",
     "output_type": "stream",
     "text": [
      "RFC 3339 timestamp: 2024-09-25T06:07:49.490311+00:00\n"
     ]
    }
   ],
   "source": [
    "#51. Generate RFC 3339 timestamp:\n",
    "\n",
    "now = datetime.datetime.now(datetime.timezone.utc)\n",
    "rfc3339_timestamp = now.isoformat()\n",
    "print(\"RFC 3339 timestamp:\", rfc3339_timestamp)"
   ]
  },
  {
   "cell_type": "code",
   "execution_count": 70,
   "metadata": {},
   "outputs": [
    {
     "name": "stdout",
     "output_type": "stream",
     "text": [
      "First second: 2024-09-25 00:00:00\n",
      "Last second: 2024-09-25 23:59:59.999999\n"
     ]
    }
   ],
   "source": [
    "#52. Get the first and last second of the day:\n",
    "\n",
    "today = datetime.date.today()\n",
    "first_second = datetime.datetime.combine(today, datetime.time.min)\n",
    "last_second = datetime.datetime.combine(today, datetime.time.max)\n",
    "\n",
    "print(\"First second:\", first_second)\n",
    "print(\"Last second:\", last_second)"
   ]
  },
  {
   "cell_type": "code",
   "execution_count": 71,
   "metadata": {},
   "outputs": [
    {
     "name": "stdout",
     "output_type": "stream",
     "text": [
      "True\n",
      "False\n"
     ]
    }
   ],
   "source": [
    "# 53. Validate a Gregorian date:\n",
    "\n",
    "def is_valid_gregorian_date(year, month, day):\n",
    "    if 1 <= year <= 32767 and 1 <= month <= 12:\n",
    "        try:\n",
    "            datetime.date(year, month, day)\n",
    "            return True\n",
    "        except ValueError:\n",
    "            return False\n",
    "    return False\n",
    "\n",
    "print(is_valid_gregorian_date(2024, 2, 29))  \n",
    "print(is_valid_gregorian_date(2023, 2, 29)) "
   ]
  },
  {
   "cell_type": "code",
   "execution_count": 75,
   "metadata": {},
   "outputs": [
    {
     "name": "stdout",
     "output_type": "stream",
     "text": [
      "Timezone set to UTC\n",
      "Current time: 6:14:58 AM 9/25/2024 UTC\n"
     ]
    }
   ],
   "source": [
    "#54. Set the default timezone:\n",
    "\n",
    "import pytz\n",
    "from datetime import datetime\n",
    "\n",
    "# Set the timezone to UTC\n",
    "timezone = pytz.timezone('UTC')\n",
    "current_time = datetime.now(timezone)\n",
    "\n",
    "print(\"Timezone set to UTC\")\n",
    "print(\"Current time:\", current_time.strftime(\"%X %x %Z\"))"
   ]
  },
  {
   "cell_type": "code",
   "execution_count": 76,
   "metadata": {},
   "outputs": [
    {
     "name": "stdout",
     "output_type": "stream",
     "text": [
      "Epoch on the platform: time.struct_time(tm_year=1970, tm_mon=1, tm_mday=1, tm_hour=0, tm_min=0, tm_sec=0, tm_wday=3, tm_yday=1, tm_isdst=0)\n",
      "Time in seconds since the epoch: time.struct_time(tm_year=1970, tm_mon=1, tm_mday=1, tm_hour=10, tm_min=0, tm_sec=0, tm_wday=3, tm_yday=1, tm_isdst=0)\n"
     ]
    }
   ],
   "source": [
    "#55. Find the epoch on a platform and convert time since epoch:\n",
    "import time\n",
    "\n",
    "epoch = time.gmtime(0)\n",
    "print(\"Epoch on the platform:\", epoch)\n",
    "\n",
    "seconds_since_epoch = 36000\n",
    "converted_time = time.gmtime(seconds_since_epoch)\n",
    "print(\"Time in seconds since the epoch:\", converted_time)"
   ]
  },
  {
   "cell_type": "code",
   "execution_count": 80,
   "metadata": {},
   "outputs": [
    {
     "name": "stdout",
     "output_type": "stream",
     "text": [
      "localtime:\n",
      "tm_year: 2024, tm_mon: 9, tm_mday: 25\n",
      "tm_hour: 11, tm_min: 52, tm_sec: 46\n",
      "tm_wday: 2, tm_yday: 269, tm_isdst: 0\n",
      "gmtime:\n",
      "tm_year: 2024, tm_mon: 9, tm_mday: 25\n",
      "tm_hour: 6, tm_min: 22, tm_sec: 46\n",
      "tm_wday: 2, tm_yday: 269, tm_isdst: 0\n"
     ]
    }
   ],
   "source": [
    "#56. To get time values with components using local time and gmtime.\n",
    "\n",
    "local_time = time.localtime()\n",
    "gmt_time = time.gmtime()\n",
    "\n",
    "print(\"localtime:\")\n",
    "print(f\"tm_year: {local_time.tm_year}, tm_mon: {local_time.tm_mon}, tm_mday: {local_time.tm_mday}\")\n",
    "print(f\"tm_hour: {local_time.tm_hour}, tm_min: {local_time.tm_min}, tm_sec: {local_time.tm_sec}\")\n",
    "print(f\"tm_wday: {local_time.tm_wday}, tm_yday: {local_time.tm_yday}, tm_isdst: {local_time.tm_isdst}\")\n",
    "print(\"gmtime:\")\n",
    "print(f\"tm_year: {gmt_time.tm_year}, tm_mon: {gmt_time.tm_mon}, tm_mday: {gmt_time.tm_mday}\")\n",
    "print(f\"tm_hour: {gmt_time.tm_hour}, tm_min: {gmt_time.tm_min}, tm_sec: {gmt_time.tm_sec}\")\n",
    "print(f\"tm_wday: {gmt_time.tm_wday}, tm_yday: {gmt_time.tm_yday}, tm_isdst: {gmt_time.tm_isdst}\")"
   ]
  },
  {
   "cell_type": "code",
   "execution_count": 81,
   "metadata": {},
   "outputs": [
    {
     "name": "stdout",
     "output_type": "stream",
     "text": [
      "UTC: 11:53:21 AM 9/25/2024 India Standard Time, Timezone: UTC\n",
      "Pacific/Auckland: 11:53:21 AM 9/25/2024 India Standard Time, Timezone: Pacific/Auckland\n",
      "Europe/Berlin: 11:53:21 AM 9/25/2024 India Standard Time, Timezone: Europe/Berlin\n",
      "America/Detroit: 11:53:21 AM 9/25/2024 India Standard Time, Timezone: America/Detroit\n",
      "Singapore: 11:53:21 AM 9/25/2024 India Standard Time, Timezone: Singapore\n"
     ]
    }
   ],
   "source": [
    "#57. Time values with timezones:\n",
    "\n",
    "import time\n",
    "import pytz\n",
    "\n",
    "zones = ['UTC', 'Pacific/Auckland', 'Europe/Berlin', 'America/Detroit', 'Singapore']\n",
    "for zone in zones:\n",
    "    tz = pytz.timezone(zone)\n",
    "    local_time = time.strftime(\"%X %x %Z\", time.localtime())\n",
    "    print(f\"{zone}: {local_time}, Timezone: {tz}\")"
   ]
  },
  {
   "cell_type": "code",
   "execution_count": 82,
   "metadata": {},
   "outputs": [
    {
     "name": "stdout",
     "output_type": "stream",
     "text": [
      "Sorry, Slept for 3 seconds...\n",
      "Sorry, Slept for 3 seconds...\n",
      "Sorry, Slept for 3 seconds...\n",
      "Sorry, Slept for 3 seconds...\n"
     ]
    }
   ],
   "source": [
    "#58. Suspend execution for a given number of seconds:\n",
    "\n",
    "import time\n",
    "\n",
    "def sleep_for(seconds):\n",
    "    for _ in range(4):\n",
    "        time.sleep(seconds)\n",
    "        print(f\"Sorry, Slept for {seconds} seconds...\")\n",
    "\n",
    "sleep_for(3)"
   ]
  },
  {
   "cell_type": "code",
   "execution_count": 83,
   "metadata": {},
   "outputs": [
    {
     "name": "stdout",
     "output_type": "stream",
     "text": [
      "Local time: Fri Jan  1 05:30:00 2021\n"
     ]
    }
   ],
   "source": [
    "#59. Convert seconds since epoch to a string representing local time:\n",
    "\n",
    "seconds = 1609459200  \n",
    "local_time = time.ctime(seconds)\n",
    "print(\"Local time:\", local_time)"
   ]
  },
  {
   "cell_type": "code",
   "execution_count": 84,
   "metadata": {},
   "outputs": [
    {
     "name": "stdout",
     "output_type": "stream",
     "text": [
      "Simple format: Wed, 25 Sep 2024 11:55:14 +0530\n",
      "Full names: Wednesday, 9/25/2024 September 2024 11:55:14 +0530\n",
      "Preferred format: 9/25/2024 11:55:14 AM\n"
     ]
    }
   ],
   "source": [
    "#60. Print time in different formats:\n",
    "\n",
    "now = time.localtime()\n",
    "\n",
    "# Simple format\n",
    "print(\"Simple format:\", time.strftime(\"%a, %d %b %Y %H:%M:%S %z\", now))\n",
    "\n",
    "# Full names and representation\n",
    "print(\"Full names:\", time.strftime(\"%A, %x %B %Y %H:%M:%S %z\", now))\n",
    "\n",
    "# Preferred date time format\n",
    "print(\"Preferred format:\", time.strftime(\"%c\", now))"
   ]
  },
  {
   "cell_type": "code",
   "execution_count": 85,
   "metadata": {},
   "outputs": [
    {
     "name": "stdout",
     "output_type": "stream",
     "text": [
      "Result: time.struct_time(tm_year=1983, tm_mon=2, tm_mday=14, tm_hour=2, tm_min=8, tm_sec=18, tm_wday=0, tm_yday=45, tm_isdst=0)\n",
      "Year: 1983\n"
     ]
    }
   ],
   "source": [
    "#61. Print structured time from seconds since epoch:\n",
    "\n",
    "seconds_since_epoch = 414016698  \n",
    "struct_time = time.localtime(seconds_since_epoch)\n",
    "print(\"Result:\", struct_time)\n",
    "print(\"Year:\", struct_time.tm_year)"
   ]
  },
  {
   "cell_type": "code",
   "execution_count": 86,
   "metadata": {},
   "outputs": [
    {
     "name": "stdout",
     "output_type": "stream",
     "text": [
      "Result: Wed Jan 22 02:34:06 2020\n"
     ]
    }
   ],
   "source": [
    "#62. Convert a tuple containing 9 elements to a string representing time:\n",
    "\n",
    "time_tuple = (2020, 1, 22, 2, 34, 6, 2, 22, -1)\n",
    "formatted_time = time.asctime(time_tuple)\n",
    "print(\"Result:\", formatted_time)"
   ]
  },
  {
   "cell_type": "code",
   "execution_count": 91,
   "metadata": {},
   "outputs": [
    {
     "name": "stdout",
     "output_type": "stream",
     "text": [
      "Parsed time for '22 January, 2020': time.struct_time(tm_year=2020, tm_mon=1, tm_mday=22, tm_hour=0, tm_min=0, tm_sec=0, tm_wday=2, tm_yday=22, tm_isdst=-1)\n",
      "Parsed time for '30 Nov 00': time.struct_time(tm_year=2000, tm_mon=11, tm_mday=30, tm_hour=0, tm_min=0, tm_sec=0, tm_wday=3, tm_yday=335, tm_isdst=-1)\n",
      "Parsed time for '04/11/15 11:55:23': time.struct_time(tm_year=2015, tm_mon=11, tm_mday=4, tm_hour=11, tm_min=55, tm_sec=23, tm_wday=2, tm_yday=308, tm_isdst=-1)\n",
      "Parsed time for '12-11-2019': time.struct_time(tm_year=2019, tm_mon=11, tm_mday=12, tm_hour=0, tm_min=0, tm_sec=0, tm_wday=1, tm_yday=316, tm_isdst=-1)\n",
      "Parsed time for '13::55::26': time.struct_time(tm_year=1900, tm_mon=1, tm_mday=1, tm_hour=13, tm_min=55, tm_sec=26, tm_wday=0, tm_yday=1, tm_isdst=-1)\n"
     ]
    }
   ],
   "source": [
    "#63. Parse a string representing time and return the time structure:\n",
    "\n",
    "import time\n",
    "\n",
    "time_strings = [\n",
    "    \"22 January, 2020\",\n",
    "    \"30 Nov 00\",\n",
    "    \"04/11/15 11:55:23\",\n",
    "    \"12-11-2019\",\n",
    "    \"13::55::26\"\n",
    "]\n",
    "\n",
    "for t_str in time_strings:\n",
    "    try:\n",
    "        parsed_time = time.strptime(t_str, \"%d %B, %Y\")\n",
    "    except ValueError:\n",
    "        try:\n",
    "            parsed_time = time.strptime(t_str, \"%d %b %y\")\n",
    "        except ValueError:\n",
    "            try:\n",
    "                parsed_time = time.strptime(t_str, \"%d/%m/%y %H:%M:%S\")\n",
    "            except ValueError:\n",
    "                try:\n",
    "                    parsed_time = time.strptime(t_str, \"%d-%m-%Y\")\n",
    "                except ValueError:\n",
    "                    parsed_time = time.strptime(t_str, \"%H::%M::%S\")\n",
    "    \n",
    "    print(f\"Parsed time for '{t_str}':\", parsed_time)\n"
   ]
  },
  {
   "cell_type": "code",
   "execution_count": null,
   "metadata": {},
   "outputs": [],
   "source": []
  }
 ],
 "metadata": {
  "kernelspec": {
   "display_name": "Python 3",
   "language": "python",
   "name": "python3"
  },
  "language_info": {
   "codemirror_mode": {
    "name": "ipython",
    "version": 3
   },
   "file_extension": ".py",
   "mimetype": "text/x-python",
   "name": "python",
   "nbconvert_exporter": "python",
   "pygments_lexer": "ipython3",
   "version": "3.10.0"
  }
 },
 "nbformat": 4,
 "nbformat_minor": 2
}
