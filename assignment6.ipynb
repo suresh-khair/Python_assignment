{
 "cells": [
  {
   "cell_type": "code",
   "execution_count": 1,
   "metadata": {},
   "outputs": [
    {
     "data": {
      "text/plain": [
       "5"
      ]
     },
     "execution_count": 1,
     "metadata": {},
     "output_type": "execute_result"
    }
   ],
   "source": [
    "#1.decorator that logs the arguments and return value of a function\n",
    "\n",
    "import logging\n",
    "\n",
    "def log_arguments_and_return(func):\n",
    "    def wrapper(*args, **kwargs):\n",
    "        logging.info(f\"Arguments: {args}, {kwargs}\")\n",
    "        result = func(*args, **kwargs)\n",
    "        logging.info(f\"Return Value: {result}\")\n",
    "        return result\n",
    "    return wrapper\n",
    "\n",
    "@log_arguments_and_return\n",
    "def example_function(a, b):\n",
    "    return a + b\n",
    "\n",
    "example_function(2, 3)\n"
   ]
  },
  {
   "cell_type": "code",
   "execution_count": 2,
   "metadata": {},
   "outputs": [
    {
     "name": "stdout",
     "output_type": "stream",
     "text": [
      "Execution time: 1.004472 seconds\n"
     ]
    },
    {
     "data": {
      "text/plain": [
       "5"
      ]
     },
     "execution_count": 2,
     "metadata": {},
     "output_type": "execute_result"
    }
   ],
   "source": [
    "#2. Decorator to measure the execution time of a function:\n",
    "\n",
    "import time\n",
    "\n",
    "def measure_execution_time(func):\n",
    "    def wrapper(*args, **kwargs):\n",
    "        start_time = time.time()\n",
    "        result = func(*args, **kwargs)\n",
    "        end_time = time.time()\n",
    "        execution_time = end_time - start_time\n",
    "        print(f\"Execution time: {execution_time:.6f} seconds\")\n",
    "        return result\n",
    "    return wrapper\n",
    "\n",
    "@measure_execution_time\n",
    "def example_function(a, b):\n",
    "    time.sleep(1)  # Simulate a delay\n",
    "    return a + b\n",
    "\n",
    "example_function(2, 3)\n"
   ]
  },
  {
   "cell_type": "code",
   "execution_count": 3,
   "metadata": {},
   "outputs": [
    {
     "name": "stdout",
     "output_type": "stream",
     "text": [
      "5\n"
     ]
    }
   ],
   "source": [
    "#3. Decorator to convert the return value of a function to a specified data type:\n",
    "\n",
    "def convert_return_type(data_type):\n",
    "    def decorator(func):\n",
    "        def wrapper(*args, **kwargs):\n",
    "            result = func(*args, **kwargs)\n",
    "            return data_type(result)\n",
    "        return wrapper\n",
    "    return decorator\n",
    "\n",
    "@convert_return_type(str)\n",
    "def example_function(a, b):\n",
    "    return a + b\n",
    "\n",
    "print(example_function(2, 3))\n"
   ]
  },
  {
   "cell_type": "code",
   "execution_count": 4,
   "metadata": {},
   "outputs": [
    {
     "name": "stdout",
     "output_type": "stream",
     "text": [
      "5\n",
      "Returning from cache\n",
      "5\n"
     ]
    }
   ],
   "source": [
    "#4. Decorator to cache the result of a function:\n",
    "\n",
    "def cache_function(func):\n",
    "    cache = {}\n",
    "    def wrapper(*args):\n",
    "        if args in cache:\n",
    "            print(\"Returning from cache\")\n",
    "            return cache[args]\n",
    "        result = func(*args)\n",
    "        cache[args] = result\n",
    "        return result\n",
    "    return wrapper\n",
    "\n",
    "@cache_function\n",
    "def example_function(a, b):\n",
    "    return a + b\n",
    "\n",
    "print(example_function(2, 3))\n",
    "print(example_function(2, 3))\n"
   ]
  },
  {
   "cell_type": "code",
   "execution_count": 5,
   "metadata": {},
   "outputs": [
    {
     "name": "stdout",
     "output_type": "stream",
     "text": [
      "5\n"
     ]
    }
   ],
   "source": [
    "#5. Decorator to validate function arguments based on a given condition:\n",
    "\n",
    "def validate_arguments(condition):\n",
    "    def decorator(func):\n",
    "        def wrapper(*args, **kwargs):\n",
    "            if not all(condition(arg) for arg in args):\n",
    "                raise ValueError(\"Invalid argument\")\n",
    "            return func(*args, **kwargs)\n",
    "        return wrapper\n",
    "    return decorator\n",
    "\n",
    "@validate_arguments(lambda x: isinstance(x, int) and x > 0)\n",
    "def example_function(a, b):\n",
    "    return a + b\n",
    "\n",
    "print(example_function(2, 3))\n",
    "# print(example_function(-2, 3))  # Will raise ValueError\n"
   ]
  },
  {
   "cell_type": "code",
   "execution_count": 17,
   "metadata": {},
   "outputs": [
    {
     "name": "stdout",
     "output_type": "stream",
     "text": [
      "Attempt 1 failed: a cannot be zero\n",
      "Attempt 2 failed: a cannot be zero\n",
      "Attempt 3 failed: a cannot be zero\n",
      "Function failed after 3 retries. Returning fallback value: Default Value\n",
      "Default Value\n"
     ]
    }
   ],
   "source": [
    "# 6. Decorator to retry a function multiple times in case of failure:\n",
    "\n",
    "import time\n",
    "\n",
    "def retry_function(retries, delay, fallback=None):\n",
    "    def decorator(func):\n",
    "        def wrapper(*args, **kwargs):\n",
    "            for attempt in range(retries):\n",
    "                try:\n",
    "                    return func(*args, **kwargs)\n",
    "                except Exception as e:\n",
    "                    print(f\"Attempt {attempt+1} failed: {e}\")\n",
    "                    time.sleep(delay)\n",
    "            # After all retries have failed, handle the fallback logic without raising an exception\n",
    "            print(f\"Function failed after {retries} retries. Returning fallback value: {fallback}\")\n",
    "            return fallback  # Returning fallback if retries fail instead of raising an exception\n",
    "        return wrapper\n",
    "    return decorator\n",
    "\n",
    "@retry_function(retries=3, delay=1, fallback=\"Default Value\")\n",
    "def example_function(a, b):\n",
    "    if a == 0:\n",
    "        raise ValueError(\"a cannot be zero\")\n",
    "    return a + b\n",
    "\n",
    "print(example_function(0, 3))  # This will retry 3 times and return the fallback value\n"
   ]
  },
  {
   "cell_type": "code",
   "execution_count": 9,
   "metadata": {},
   "outputs": [
    {
     "name": "stdout",
     "output_type": "stream",
     "text": [
      "5\n",
      "5\n"
     ]
    }
   ],
   "source": [
    "# 7. Decorator to enforce rate limits on a function:\n",
    "\n",
    "import time\n",
    "\n",
    "def rate_limiter(max_calls_per_sec):\n",
    "    interval = 1.0 / max_calls_per_sec\n",
    "    def decorator(func):\n",
    "        last_called = [0.0]\n",
    "        def wrapper(*args, **kwargs):\n",
    "            elapsed = time.time() - last_called[0]\n",
    "            if elapsed < interval:\n",
    "                time.sleep(interval - elapsed)\n",
    "            result = func(*args, **kwargs)\n",
    "            last_called[0] = time.time()\n",
    "            return result\n",
    "        return wrapper\n",
    "    return decorator\n",
    "\n",
    "@rate_limiter(max_calls_per_sec=2)\n",
    "def example_function(a, b):\n",
    "    return a + b\n",
    "\n",
    "print(example_function(2, 3))\n",
    "print(example_function(2, 3))\n"
   ]
  },
  {
   "cell_type": "code",
   "execution_count": 10,
   "metadata": {},
   "outputs": [
    {
     "data": {
      "text/plain": [
       "5"
      ]
     },
     "execution_count": 10,
     "metadata": {},
     "output_type": "execute_result"
    }
   ],
   "source": [
    "# 8. Decorator to add logging functionality to a function:\n",
    "\n",
    "def add_logging(func):\n",
    "    def wrapper(*args, **kwargs):\n",
    "        logging.info(f\"Calling function: {func.__name__}\")\n",
    "        result = func(*args, **kwargs)\n",
    "        logging.info(f\"Function returned: {result}\")\n",
    "        return result\n",
    "    return wrapper\n",
    "\n",
    "@add_logging\n",
    "def example_function(a, b):\n",
    "    return a + b\n",
    "\n",
    "example_function(2, 3)\n"
   ]
  },
  {
   "cell_type": "code",
   "execution_count": 11,
   "metadata": {},
   "outputs": [
    {
     "name": "stdout",
     "output_type": "stream",
     "text": [
      "Exception caught: division by zero, returning default value: 0\n",
      "0\n"
     ]
    }
   ],
   "source": [
    "# 9. Decorator to handle exceptions and provide a default response:\n",
    "\n",
    "def handle_exceptions(default_value):\n",
    "    def decorator(func):\n",
    "        def wrapper(*args, **kwargs):\n",
    "            try:\n",
    "                return func(*args, **kwargs)\n",
    "            except Exception as e:\n",
    "                print(f\"Exception caught: {e}, returning default value: {default_value}\")\n",
    "                return default_value\n",
    "        return wrapper\n",
    "    return decorator\n",
    "\n",
    "@handle_exceptions(default_value=0)\n",
    "def example_function(a, b):\n",
    "    return a / b\n",
    "\n",
    "print(example_function(4, 0))\n"
   ]
  },
  {
   "cell_type": "code",
   "execution_count": 12,
   "metadata": {},
   "outputs": [
    {
     "name": "stdout",
     "output_type": "stream",
     "text": [
      "5\n"
     ]
    }
   ],
   "source": [
    "# 10. Decorator to enforce type checking on function arguments:\n",
    "\n",
    "def enforce_types(*types):\n",
    "    def decorator(func):\n",
    "        def wrapper(*args, **kwargs):\n",
    "            for i, arg in enumerate(args):\n",
    "                if not isinstance(arg, types[i]):\n",
    "                    raise TypeError(f\"Argument {arg} is not of type {types[i].__name__}\")\n",
    "            return func(*args, **kwargs)\n",
    "        return wrapper\n",
    "    return decorator\n",
    "\n",
    "@enforce_types(int, int)\n",
    "def example_function(a, b):\n",
    "    return a + b\n",
    "\n",
    "print(example_function(2, 3))\n",
    "# print(example_function(2, '3'))  # Will raise TypeError\n"
   ]
  },
  {
   "cell_type": "code",
   "execution_count": 13,
   "metadata": {},
   "outputs": [
    {
     "name": "stdout",
     "output_type": "stream",
     "text": [
      "Current memory usage: 0.000408MB; Peak: 0.000408MB\n"
     ]
    },
    {
     "data": {
      "text/plain": [
       "5"
      ]
     },
     "execution_count": 13,
     "metadata": {},
     "output_type": "execute_result"
    }
   ],
   "source": [
    "# 11. Decorator to measure memory usage of a function:\n",
    "\n",
    "import tracemalloc\n",
    "\n",
    "def measure_memory(func):\n",
    "    def wrapper(*args, **kwargs):\n",
    "        tracemalloc.start()\n",
    "        result = func(*args, **kwargs)\n",
    "        current, peak = tracemalloc.get_traced_memory()\n",
    "        tracemalloc.stop()\n",
    "        print(f\"Current memory usage: {current / 10**6}MB; Peak: {peak / 10**6}MB\")\n",
    "        return result\n",
    "    return wrapper\n",
    "\n",
    "@measure_memory\n",
    "def example_function(a, b):\n",
    "    return a + b\n",
    "\n",
    "example_function(2, 3)\n"
   ]
  },
  {
   "cell_type": "code",
   "execution_count": 14,
   "metadata": {},
   "outputs": [
    {
     "name": "stdout",
     "output_type": "stream",
     "text": [
      "5\n",
      "5\n"
     ]
    }
   ],
   "source": [
    "# 12. Decorator for caching with expiration time:\n",
    "\n",
    "import time\n",
    "\n",
    "def cache_with_expiration(expiration_seconds):\n",
    "    cache = {}\n",
    "    def decorator(func):\n",
    "        def wrapper(*args):\n",
    "            if args in cache:\n",
    "                result, timestamp = cache[args]\n",
    "                if time.time() - timestamp < expiration_seconds:\n",
    "                    print(\"Returning cached result\")\n",
    "                    return result\n",
    "            result = func(*args)\n",
    "            cache[args] = (result, time.time())\n",
    "            return result\n",
    "        return wrapper\n",
    "    return decorator\n",
    "\n",
    "@cache_with_expiration(5)\n",
    "def example_function(a, b):\n",
    "    return a + b\n",
    "\n",
    "print(example_function(2, 3))\n",
    "time.sleep(6)\n",
    "print(example_function(2, 3))  # After 6 seconds, it should recompute\n"
   ]
  },
  {
   "cell_type": "code",
   "execution_count": null,
   "metadata": {},
   "outputs": [],
   "source": []
  }
 ],
 "metadata": {
  "kernelspec": {
   "display_name": "Python 3",
   "language": "python",
   "name": "python3"
  },
  "language_info": {
   "codemirror_mode": {
    "name": "ipython",
    "version": 3
   },
   "file_extension": ".py",
   "mimetype": "text/x-python",
   "name": "python",
   "nbconvert_exporter": "python",
   "pygments_lexer": "ipython3",
   "version": "3.10.0"
  }
 },
 "nbformat": 4,
 "nbformat_minor": 2
}
