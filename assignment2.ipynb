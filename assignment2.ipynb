{
 "cells": [
  {
   "cell_type": "code",
   "execution_count": 2,
   "metadata": {},
   "outputs": [],
   "source": [
    "import re\n",
    "from cryptography.fernet import Fernet\n"
   ]
  },
  {
   "cell_type": "code",
   "execution_count": 3,
   "metadata": {},
   "outputs": [],
   "source": [
    "\n",
    "# Generate a key for encryption. In a real-world application, keep this key safe and secure.\n",
    "encryption_key = Fernet.generate_key()\n",
    "cipher_suite = Fernet(encryption_key)\n"
   ]
  },
  {
   "cell_type": "code",
   "execution_count": 4,
   "metadata": {},
   "outputs": [],
   "source": [
    "\n",
    "def validate_reference_id(reference_id):\n",
    "    \"\"\"\n",
    "    Validates the Reference ID to ensure it is 12 characters long \n",
    "    and contains only numbers and alphabets.\n",
    "    \"\"\"\n",
    "    if re.fullmatch(r'[A-Za-z0-9]{12}', reference_id):\n",
    "        return True\n",
    "    else:\n",
    "        return False\n",
    "\n",
    "def encrypt_reference_id(reference_id):\n",
    "    \"\"\"\n",
    "    Encrypts the Reference ID using Fernet encryption.\n",
    "    \"\"\"\n",
    "    encrypted_reference_id = cipher_suite.encrypt(reference_id.encode())\n",
    "    return encrypted_reference_id\n",
    "\n"
   ]
  },
  {
   "cell_type": "code",
   "execution_count": 5,
   "metadata": {},
   "outputs": [
    {
     "name": "stdout",
     "output_type": "stream",
     "text": [
      "Encrypted Reference ID: gAAAAABm7PbdCFDdLi_eW-_rPwy1TJyCNrto5atHeYocFfEtl6ZnwdtIMumNRIWuzj6j134eb7FQUZPZ78NpbPNJt05ENCD-Pw==\n"
     ]
    }
   ],
   "source": [
    "def main():\n",
    "    # Step 1: Read the Reference ID from the command line\n",
    "    reference_id = input(\"Enter the 12-character Reference ID: \")\n",
    "\n",
    "    # Step 2: Validate the Reference ID\n",
    "    if not validate_reference_id(reference_id):\n",
    "        print(\"Invalid Reference ID. It must be 12 characters long and contain only letters and numbers.\")\n",
    "        return\n",
    "\n",
    "    # Step 3: Encrypt the Reference ID\n",
    "    encrypted_id = encrypt_reference_id(reference_id)\n",
    "\n",
    "    # Step 4: Print the encrypted Reference ID\n",
    "    print(f\"Encrypted Reference ID: {encrypted_id.decode()}\")\n",
    "\n",
    "if __name__ == \"__main__\":\n",
    "    main()\n"
   ]
  },
  {
   "cell_type": "code",
   "execution_count": null,
   "metadata": {},
   "outputs": [],
   "source": []
  }
 ],
 "metadata": {
  "kernelspec": {
   "display_name": "Python 3",
   "language": "python",
   "name": "python3"
  },
  "language_info": {
   "codemirror_mode": {
    "name": "ipython",
    "version": 3
   },
   "file_extension": ".py",
   "mimetype": "text/x-python",
   "name": "python",
   "nbconvert_exporter": "python",
   "pygments_lexer": "ipython3",
   "version": "3.10.0"
  }
 },
 "nbformat": 4,
 "nbformat_minor": 2
}
