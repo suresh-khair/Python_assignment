{
 "cells": [
  {
   "cell_type": "code",
   "execution_count": 1,
   "metadata": {},
   "outputs": [
    {
     "name": "stdout",
     "output_type": "stream",
     "text": [
      "4\n"
     ]
    }
   ],
   "source": [
    "nums = set([1,1,2,3,3,3,4,4])  \n",
    "print(len(nums))   "
   ]
  },
  {
   "cell_type": "code",
   "execution_count": 2,
   "metadata": {},
   "outputs": [
    {
     "name": "stdout",
     "output_type": "stream",
     "text": [
      "['john', 'peter']\n"
     ]
    }
   ],
   "source": [
    "d = {\"john\":40, \"peter\":45}\n",
    "print(list(d.keys()))\n"
   ]
  },
  {
   "cell_type": "code",
   "execution_count": 3,
   "metadata": {},
   "outputs": [
    {
     "name": "stdout",
     "output_type": "stream",
     "text": [
      "Valid password\n"
     ]
    }
   ],
   "source": [
    "# 3.Program to check the validity of a password\n",
    "import re\n",
    "\n",
    "def check_password(password):\n",
    "    if (6 <= len(password) <= 12 and\n",
    "        re.search(\"[a-z]\", password) and\n",
    "        re.search(\"[A-Z]\", password) and\n",
    "        re.search(\"[0-9]\", password) and\n",
    "        re.search(\"[$#@]\", password)):\n",
    "        return \"Valid password\"\n",
    "    else:\n",
    "        return \"Invalid password\"\n",
    "\n",
    "password = input(\"Enter password: \")\n",
    "print(check_password(password))\n"
   ]
  },
  {
   "cell_type": "code",
   "execution_count": 4,
   "metadata": {},
   "outputs": [
    {
     "name": "stdout",
     "output_type": "stream",
     "text": [
      "Element at index 0 is 4\n",
      "Element at index 1 is 7\n",
      "Element at index 2 is 3\n",
      "Element at index 3 is 2\n",
      "Element at index 4 is 5\n",
      "Element at index 5 is 9\n"
     ]
    }
   ],
   "source": [
    "#4.For loop to print elements and their positions\n",
    "a = [4, 7, 3, 2, 5, 9]\n",
    "for index, value in enumerate(a):\n",
    "    print(f\"Element at index {index} is {value}\")\n"
   ]
  },
  {
   "cell_type": "code",
   "execution_count": 5,
   "metadata": {},
   "outputs": [
    {
     "name": "stdout",
     "output_type": "stream",
     "text": [
      "stra\n"
     ]
    }
   ],
   "source": [
    "#5.Program to print characters with even indexes\n",
    "s = input(\"Enter a string: \")\n",
    "result = s[::2]\n",
    "print(result)\n"
   ]
  },
  {
   "cell_type": "code",
   "execution_count": 6,
   "metadata": {},
   "outputs": [
    {
     "name": "stdout",
     "output_type": "stream",
     "text": [
      "malayalam\n"
     ]
    }
   ],
   "source": [
    "#6.Program to print the string in reverse order\n",
    "s = input(\"Enter a string: \")\n",
    "result = s[::-1]\n",
    "print(result)\n"
   ]
  },
  {
   "cell_type": "code",
   "execution_count": 7,
   "metadata": {},
   "outputs": [
    {
     "name": "stdout",
     "output_type": "stream",
     "text": [
      "t,1\n",
      "h,1\n",
      "e,2\n",
      "r,1\n",
      " ,2\n",
      "i,1\n",
      "s,1\n",
      "m,1\n",
      "a,1\n",
      "n,1\n",
      "g,1\n",
      "o,1\n"
     ]
    }
   ],
   "source": [
    "#7.Program to count the frequency of each character in a string\n",
    "from collections import Counter\n",
    "\n",
    "s = input(\"Enter a string: \")\n",
    "freq = Counter(s)\n",
    "for char, count in freq.items():\n",
    "    print(f\"{char},{count}\")\n"
   ]
  },
  {
   "cell_type": "code",
   "execution_count": 8,
   "metadata": {},
   "outputs": [
    {
     "name": "stdout",
     "output_type": "stream",
     "text": [
      "[35]\n"
     ]
    }
   ],
   "source": [
    "#8.Program to find the intersection of two lists\n",
    "list1 = [1, 3, 6, 78, 35, 55]\n",
    "list2 = [12, 24, 35, 24, 88, 120, 155]\n",
    "result = list(set(list1) & set(list2))\n",
    "print(result)\n"
   ]
  },
  {
   "cell_type": "code",
   "execution_count": 9,
   "metadata": {},
   "outputs": [
    {
     "name": "stdout",
     "output_type": "stream",
     "text": [
      "[12, 24, 35, 88, 120, 155]\n"
     ]
    }
   ],
   "source": [
    "#9.Program to remove duplicates from a list while preserving the order\n",
    "lst = [12, 24, 35, 24, 88, 120, 155, 88, 120, 155]\n",
    "result = []\n",
    "for item in lst:\n",
    "    if item not in result:\n",
    "        result.append(item)\n",
    "print(result)\n"
   ]
  },
  {
   "cell_type": "code",
   "execution_count": 10,
   "metadata": {},
   "outputs": [
    {
     "name": "stdout",
     "output_type": "stream",
     "text": [
      "[12, 35, 88, 120, 155]\n"
     ]
    }
   ],
   "source": [
    "#10.Program to remove the value 24 using list comprehension:\n",
    "lst = [12, 24, 35, 24, 88, 120, 155]\n",
    "result = [x for x in lst if x != 24]\n",
    "print(result)\n"
   ]
  },
  {
   "cell_type": "code",
   "execution_count": 11,
   "metadata": {},
   "outputs": [
    {
     "name": "stdout",
     "output_type": "stream",
     "text": [
      "[24, 35, 70, 155]\n"
     ]
    }
   ],
   "source": [
    "#11.Program to remove the 0th, 4th, and 5th numbers using list comprehension:\n",
    "lst = [12, 24, 35, 70, 88, 120, 155]\n",
    "result = [x for i, x in enumerate(lst) if i not in [0, 4, 5]]\n",
    "print(result)\n"
   ]
  },
  {
   "cell_type": "code",
   "execution_count": 12,
   "metadata": {},
   "outputs": [
    {
     "name": "stdout",
     "output_type": "stream",
     "text": [
      "[12, 24, 88, 120, 155]\n"
     ]
    }
   ],
   "source": [
    "#12.Program to remove numbers divisible by 5 and 7 using list comprehension:\n",
    "\n",
    "lst = [12, 24, 35, 70, 88, 120, 155]\n",
    "result = [x for x in lst if x % 5 != 0 or x % 7 != 0]\n",
    "print(result)\n"
   ]
  },
  {
   "cell_type": "code",
   "execution_count": 13,
   "metadata": {},
   "outputs": [
    {
     "name": "stdout",
     "output_type": "stream",
     "text": [
      "[140, 70, 945, 560, 875]\n"
     ]
    }
   ],
   "source": [
    "#13.Program to generate a list of 5 random numbers divisible by 5 and 7:\n",
    "import random\n",
    "\n",
    "result = [x for x in random.sample(range(1, 1001), 1000) if x % 35 == 0][:5]\n",
    "print(result)\n"
   ]
  },
  {
   "cell_type": "code",
   "execution_count": 14,
   "metadata": {},
   "outputs": [
    {
     "name": "stdout",
     "output_type": "stream",
     "text": [
      "41.58\n"
     ]
    }
   ],
   "source": [
    "#14.Program to compute the series 1/2 + 2/3 + ... + n/(n+1):\n",
    "n = int(input(\"Enter a value for n: \"))\n",
    "result = sum(i/(i+1) for i in range(1, n+1))\n",
    "print(round(result, 2))\n"
   ]
  },
  {
   "cell_type": "code",
   "execution_count": null,
   "metadata": {},
   "outputs": [],
   "source": []
  }
 ],
 "metadata": {
  "kernelspec": {
   "display_name": "Python 3",
   "language": "python",
   "name": "python3"
  },
  "language_info": {
   "codemirror_mode": {
    "name": "ipython",
    "version": 3
   },
   "file_extension": ".py",
   "mimetype": "text/x-python",
   "name": "python",
   "nbconvert_exporter": "python",
   "pygments_lexer": "ipython3",
   "version": "3.10.0"
  }
 },
 "nbformat": 4,
 "nbformat_minor": 2
}
