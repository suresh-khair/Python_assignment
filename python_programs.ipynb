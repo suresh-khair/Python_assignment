{
 "cells": [
  {
   "cell_type": "code",
   "execution_count": 2,
   "metadata": {},
   "outputs": [
    {
     "name": "stdout",
     "output_type": "stream",
     "text": [
      "Lambda function to add 15 to a given number is 25\n",
      "Lambda function to multiply two arguments 48\n"
     ]
    }
   ],
   "source": [
    "# 1.Lambda function to add 15 to a given number\n",
    "add_15 = lambda x: x + 15\n",
    "print(\"Lambda function to add 15 to a given number is\",add_15(10))\n",
    "\n",
    "# Lambda function to multiply two arguments\n",
    "multiply = lambda x, y: x * y\n",
    "print(\"Lambda function to multiply two arguments\",multiply(6, 8))\n"
   ]
  },
  {
   "cell_type": "code",
   "execution_count": 3,
   "metadata": {},
   "outputs": [
    {
     "name": "stdout",
     "output_type": "stream",
     "text": [
      "Double the number of 15 = 30\n",
      "Triple the number of 15 = 45\n",
      "Quadruple the number of 15 = 60\n",
      "Quintuple the number of 15 = 75\n"
     ]
    }
   ],
   "source": [
    "# 2.To create a function that takes one argument, and that argument will be multiplied with an unknown given number\n",
    "\n",
    "def multiplier(factor):\n",
    "    return lambda x: x * factor\n",
    "\n",
    "# Double\n",
    "double = multiplier(2)\n",
    "print(f\"Double the number of 15 = {double(15)}\")\n",
    "# Triple\n",
    "triple = multiplier(3)\n",
    "print(f\"Triple the number of 15 = {triple(15)}\")\n",
    "\n",
    "# Quadruple\n",
    "quadruple = multiplier(4)\n",
    "print(f\"Quadruple the number of 15 = {quadruple(15)}\")\n",
    "\n",
    "# Quintuple\n",
    "quintuple = multiplier(5)\n",
    "print(f\"Quintuple the number of 15 = {quintuple(15)}\")\n"
   ]
  },
  {
   "cell_type": "code",
   "execution_count": 5,
   "metadata": {},
   "outputs": [
    {
     "name": "stdout",
     "output_type": "stream",
     "text": [
      "Sorting the List of Tuples\n",
      "[('Social sciences', 82), ('English', 88), ('Science', 90), ('Maths', 97)]\n"
     ]
    }
   ],
   "source": [
    "#3.To sort a list of tuples using Lambda\n",
    "\n",
    "tuples_list = [('English', 88), ('Science', 90), ('Maths', 97), ('Social sciences', 82)]\n",
    "sorted_tuples = sorted(tuples_list, key=lambda x: x[1])\n",
    "print(\"Sorting the List of Tuples\")\n",
    "print(sorted_tuples)\n",
    "\n"
   ]
  },
  {
   "cell_type": "code",
   "execution_count": 10,
   "metadata": {},
   "outputs": [
    {
     "name": "stdout",
     "output_type": "stream",
     "text": [
      "Sorting the List of dictionaries:\n",
      "[{'make': 'Mi Max', 'model': '2', 'color': 'Gold'}, {'make': 'Nokia', 'model': 216, 'color': 'Black'}, {'make': 'Samsung', 'model': 7, 'color': 'Blue'}]\n"
     ]
    }
   ],
   "source": [
    "#4. To sort a list of dictionaries using Lambda\n",
    "\n",
    "dict_list = [\n",
    "    {'make': 'Nokia', 'model': 216, 'color': 'Black'},\n",
    "    {'make': 'Mi Max', 'model': '2', 'color': 'Gold'},\n",
    "    {'make': 'Samsung', 'model': 7, 'color': 'Blue'}\n",
    "]\n",
    "\n",
    "\n",
    "sorted_dicts = sorted(dict_list, key=lambda x: str(x['model']))\n",
    "print(\"Sorting the List of dictionaries:\")\n",
    "print(sorted_dicts)\n"
   ]
  },
  {
   "cell_type": "code",
   "execution_count": 11,
   "metadata": {},
   "outputs": [
    {
     "name": "stdout",
     "output_type": "stream",
     "text": [
      "Even numbers from the said list: [2, 4, 6, 8, 10]\n",
      "Odd numbers from the said list: [1, 3, 5, 7, 9]\n"
     ]
    }
   ],
   "source": [
    "# 5. To filter a list of integers using Lambda\n",
    "int_list = [1, 2, 3, 4, 5, 6, 7, 8, 9, 10]\n",
    "even_numbers = list(filter(lambda x: x % 2 == 0, int_list))\n",
    "print(f\"Even numbers from the said list: {even_numbers}\")\n",
    "\n",
    "odd_numbers = list(filter(lambda x: x % 2 != 0, int_list))\n",
    "print(f\"Odd numbers from the said list: {odd_numbers}\")\n"
   ]
  },
  {
   "cell_type": "code",
   "execution_count": 12,
   "metadata": {},
   "outputs": [
    {
     "name": "stdout",
     "output_type": "stream",
     "text": [
      "Square every number of the said list: [1, 4, 9, 16, 25, 36, 49, 64, 81, 100]\n",
      "Cube every number of the said list: [1, 8, 27, 64, 125, 216, 343, 512, 729, 1000]\n"
     ]
    }
   ],
   "source": [
    "# 6. To square and cube every number in a given list of integers using Lambda\n",
    "int_list = [1, 2, 3, 4, 5, 6, 7, 8, 9, 10]\n",
    "squares = list(map(lambda x: x ** 2, int_list))\n",
    "print(f\"Square every number of the said list: {squares}\")\n",
    "\n",
    "cubes = list(map(lambda x: x ** 3, int_list))\n",
    "print(f\"Cube every number of the said list: {cubes}\")\n"
   ]
  },
  {
   "cell_type": "code",
   "execution_count": 13,
   "metadata": {},
   "outputs": [
    {
     "name": "stdout",
     "output_type": "stream",
     "text": [
      "True\n",
      "False\n"
     ]
    }
   ],
   "source": [
    "# 7.To find if a given string starts with a given character using Lambda\n",
    "starts_with = lambda s, char: s.startswith(char)\n",
    "\n",
    "print(starts_with('hello', 'h'))  \n",
    "print(starts_with('hello', 'a'))\n"
   ]
  },
  {
   "cell_type": "code",
   "execution_count": 15,
   "metadata": {},
   "outputs": [
    {
     "name": "stdout",
     "output_type": "stream",
     "text": [
      "2024-09-13 11:28:57.560045\n",
      "extract_year is 2024\n",
      "extract_month is 9\n",
      "extract_day is 13\n",
      "extract_time 11:28:57.560045\n"
     ]
    }
   ],
   "source": [
    "#8.To extract year, month, date and time using Lambda\n",
    "\n",
    "from datetime import datetime\n",
    "\n",
    "current_datetime = datetime.now()\n",
    "print(current_datetime)\n",
    "\n",
    "extract_year = lambda dt: dt.year\n",
    "extract_month = lambda dt: dt.month\n",
    "extract_day = lambda dt: dt.day\n",
    "extract_time = lambda dt: dt.time()\n",
    "\n",
    "# Output\n",
    "print(\"extract_year is\" ,extract_year(current_datetime))  \n",
    "print(\"extract_month is\",extract_month(current_datetime))  \n",
    "print(\"extract_day is\",extract_day(current_datetime))    \n",
    "print(\"extract_time\",extract_time(current_datetime))   \n"
   ]
  },
  {
   "cell_type": "code",
   "execution_count": 16,
   "metadata": {},
   "outputs": [
    {
     "name": "stdout",
     "output_type": "stream",
     "text": [
      "True\n",
      "True\n",
      "False\n",
      "False\n",
      "False\n",
      "True\n"
     ]
    }
   ],
   "source": [
    "# 9.To check whether a given string is a number or not using Lambda\n",
    "is_number = lambda s: s.replace('.', '', 1).isdigit()\n",
    "\n",
    "print(is_number(\"123\"))      \n",
    "print(is_number(\"12.3\"))     \n",
    "print(is_number(\"abc\"))      \n",
    "print(is_number(\"-123\"))     \n",
    "print(is_number(\"12.3abc\"))  \n",
    "print(is_number(\"45.67\"))    \n"
   ]
  },
  {
   "cell_type": "code",
   "execution_count": 17,
   "metadata": {},
   "outputs": [
    {
     "name": "stdout",
     "output_type": "stream",
     "text": [
      "Fibonacci series up to 2: [0, 1]\n",
      "Fibonacci series up to 5: [0, 1, 1, 2, 3]\n",
      "Fibonacci series up to 6: [0, 1, 1, 2, 3, 5]\n",
      "Fibonacci series up to 9: [0, 1, 1, 2, 3, 5, 8, 13, 21]\n"
     ]
    }
   ],
   "source": [
    "# 10.Fibonacci series up to n using lambda\n",
    "from functools import reduce\n",
    "fibonacci = lambda n: reduce(lambda x, _: x + [x[-1] + x[-2]], range(n - 2), [0, 1])\n",
    "\n",
    "print(f\"Fibonacci series up to 2: {fibonacci(2)}\")  \n",
    "print(f\"Fibonacci series up to 5: {fibonacci(5)}\")  \n",
    "print(f\"Fibonacci series up to 6: {fibonacci(6)}\")  \n",
    "print(f\"Fibonacci series up to 9: {fibonacci(9)}\")  \n"
   ]
  },
  {
   "cell_type": "code",
   "execution_count": 18,
   "metadata": {},
   "outputs": [
    {
     "name": "stdout",
     "output_type": "stream",
     "text": [
      "Intersection of the said arrays: [1, 2, 8, 9]\n"
     ]
    }
   ],
   "source": [
    "# 11.To find the intersection of two given arrays using Lambda\n",
    "arr1 = [1, 2, 3, 5, 7, 8, 9, 10]\n",
    "arr2 = [1, 2, 4, 8, 9]\n",
    "\n",
    "\n",
    "intersection = list(filter(lambda x: x in arr2, arr1))\n",
    "print(f\"Intersection of the said arrays: {intersection}\")"
   ]
  },
  {
   "cell_type": "code",
   "execution_count": null,
   "metadata": {},
   "outputs": [],
   "source": []
  }
 ],
 "metadata": {
  "kernelspec": {
   "display_name": "Python 3",
   "language": "python",
   "name": "python3"
  },
  "language_info": {
   "codemirror_mode": {
    "name": "ipython",
    "version": 3
   },
   "file_extension": ".py",
   "mimetype": "text/x-python",
   "name": "python",
   "nbconvert_exporter": "python",
   "pygments_lexer": "ipython3",
   "version": "3.10.0"
  }
 },
 "nbformat": 4,
 "nbformat_minor": 2
}
